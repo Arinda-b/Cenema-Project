{
 "cells": [
  {
   "cell_type": "markdown",
   "id": "b433616d",
   "metadata": {},
   "source": [
    "## EDA PROJECT\n",
    "## PROJECT NAME - CINEMA TICKETS"
   ]
  },
  {
   "cell_type": "markdown",
   "id": "24578c8b",
   "metadata": {},
   "source": [
    "NAME - ARINDAM SINGH THAKUR\n",
    "ROLLNO – 16\n",
    "REGNO - 12017006\n",
    "\n",
    "1 INTRODUCTION\n",
    "\n",
    "This dataset which I have choosed contains information regarding tickets of \n",
    "cinema. It contains all the information related to how different are movies \n",
    "tickets available to same movies. How the price of cinema tickets do effects \n",
    "the occupancy of the movies. How much the business of certain cinema \n",
    "depends upon managements of the tickets pricing. Apart from that it also \n",
    "evaluates terms like ticket use ,total occupancy of cinema ,how the occupancy \n",
    "and ticket sales are effected with respect to that of month and days. Basically \n",
    "it is whole evaluation in regards to ticket , movies and cinema business model.\n",
    "\n",
    "\n",
    "2 REASON FOR CHOOSING THE DOMAIN\n",
    "\n",
    "Reasons on the basis of which I had choosed this particular domain is first of \n",
    "all is easy assessment that I get to do in this domain . The understanding of \n",
    "this domain is easy .The content about this domain is not hard . Things are \n",
    "easily related to each other so not much of problem to do assesement \n",
    "\n",
    "3 INFORMATION REGARDING DATASET\n",
    "\n",
    "TOTAL ROWS = 142524\n",
    "TOTAL COLUMNS = 14\n",
    "FOLLOWING IS THE INFORMATION REGARDING COLUMNS OF \n",
    "DATASET\n",
    " FILM CODE – it describes what type of film is going in the cinema.\n",
    " CINEMA CODE – it describes what code is specified for that particular \n",
    "cinema based upon its location and given facilities \n",
    " TOTAL SALES – It basically tells about the overall sales of the tickets \n",
    "about the movies based on the cinema.\n",
    " TICKETS SOLD – It describes the total number of sales of the tickets \n",
    "with respect to particular movie and cinema code.\n",
    " TICKETS OUT\n",
    " OCCUPATION PERCENTAGE\n",
    " NUMBERS OF TICKETS USED\n",
    " DATE,MONTH AND WHICH QUARTER MOVIES IS \n",
    "RELEASED.\n",
    "\n",
    "\n",
    "4 KPI LIST FOR GIVEN DATASET\n",
    " Average ticket price per season.\n",
    " Cost per viewer/ listener\n",
    " Satisfaction rate\n",
    " Increase/decrease number of performance nights per year\n",
    " Location\n",
    " Public Interset by genre\n",
    " content (broadcasting organizations)\n",
    " Percentage of overhead against total expenditure\n",
    " Profit percentage\n",
    " Ratio of amateur versus professional performers.\n",
    " Revenue\n",
    " Seating efficiency\n",
    " Cinema and movies rating.\n",
    " Cinema and movie quality.\n",
    " How easy reachable is cinema."
   ]
  },
  {
   "cell_type": "markdown",
   "id": "d07d1d4e",
   "metadata": {},
   "source": [
    "##FIRST WE IMPORT VARIOUS PYTHON LIBRARIES TO START DATA ANALYSIS"
   ]
  },
  {
   "cell_type": "code",
   "execution_count": 97,
   "id": "3df78aa3",
   "metadata": {},
   "outputs": [],
   "source": [
    "import pandas as pd\n",
    "import numpy as np\n",
    "import matplotlib.pyplot as plt\n",
    "import seaborn as sns\n",
    "sns.set(color_codes=True)\n",
    "import warnings\n",
    "warnings.filterwarnings(\"ignore\")"
   ]
  },
  {
   "cell_type": "markdown",
   "id": "8dcfcf08",
   "metadata": {},
   "source": [
    "##IMPORTING THE EXCEL DATA FILE"
   ]
  },
  {
   "cell_type": "code",
   "execution_count": 98,
   "id": "16da6eab",
   "metadata": {},
   "outputs": [
    {
     "data": {
      "text/html": [
       "<div>\n",
       "<style scoped>\n",
       "    .dataframe tbody tr th:only-of-type {\n",
       "        vertical-align: middle;\n",
       "    }\n",
       "\n",
       "    .dataframe tbody tr th {\n",
       "        vertical-align: top;\n",
       "    }\n",
       "\n",
       "    .dataframe thead th {\n",
       "        text-align: right;\n",
       "    }\n",
       "</style>\n",
       "<table border=\"1\" class=\"dataframe\">\n",
       "  <thead>\n",
       "    <tr style=\"text-align: right;\">\n",
       "      <th></th>\n",
       "      <th>film_code</th>\n",
       "      <th>cinema_code</th>\n",
       "      <th>total_sales</th>\n",
       "      <th>tickets_sold</th>\n",
       "      <th>tickets_out</th>\n",
       "      <th>show_time</th>\n",
       "      <th>occu_perc</th>\n",
       "      <th>ticket_price</th>\n",
       "      <th>ticket_use</th>\n",
       "      <th>capacity</th>\n",
       "      <th>date</th>\n",
       "      <th>month</th>\n",
       "      <th>quarter</th>\n",
       "      <th>day</th>\n",
       "    </tr>\n",
       "  </thead>\n",
       "  <tbody>\n",
       "    <tr>\n",
       "      <th>0</th>\n",
       "      <td>1492</td>\n",
       "      <td>304</td>\n",
       "      <td>3900000</td>\n",
       "      <td>26</td>\n",
       "      <td>0</td>\n",
       "      <td>4</td>\n",
       "      <td>4.26</td>\n",
       "      <td>150000.0</td>\n",
       "      <td>26</td>\n",
       "      <td>610.328638</td>\n",
       "      <td>2018-05-05</td>\n",
       "      <td>5</td>\n",
       "      <td>2</td>\n",
       "      <td>5</td>\n",
       "    </tr>\n",
       "    <tr>\n",
       "      <th>1</th>\n",
       "      <td>1492</td>\n",
       "      <td>352</td>\n",
       "      <td>3360000</td>\n",
       "      <td>42</td>\n",
       "      <td>0</td>\n",
       "      <td>5</td>\n",
       "      <td>8.08</td>\n",
       "      <td>80000.0</td>\n",
       "      <td>42</td>\n",
       "      <td>519.801980</td>\n",
       "      <td>2018-05-05</td>\n",
       "      <td>5</td>\n",
       "      <td>2</td>\n",
       "      <td>5</td>\n",
       "    </tr>\n",
       "    <tr>\n",
       "      <th>2</th>\n",
       "      <td>1492</td>\n",
       "      <td>489</td>\n",
       "      <td>2560000</td>\n",
       "      <td>32</td>\n",
       "      <td>0</td>\n",
       "      <td>4</td>\n",
       "      <td>20.00</td>\n",
       "      <td>80000.0</td>\n",
       "      <td>32</td>\n",
       "      <td>160.000000</td>\n",
       "      <td>2018-05-05</td>\n",
       "      <td>5</td>\n",
       "      <td>2</td>\n",
       "      <td>5</td>\n",
       "    </tr>\n",
       "    <tr>\n",
       "      <th>3</th>\n",
       "      <td>1492</td>\n",
       "      <td>429</td>\n",
       "      <td>1200000</td>\n",
       "      <td>12</td>\n",
       "      <td>0</td>\n",
       "      <td>1</td>\n",
       "      <td>11.01</td>\n",
       "      <td>100000.0</td>\n",
       "      <td>12</td>\n",
       "      <td>108.991826</td>\n",
       "      <td>2018-05-05</td>\n",
       "      <td>5</td>\n",
       "      <td>2</td>\n",
       "      <td>5</td>\n",
       "    </tr>\n",
       "    <tr>\n",
       "      <th>4</th>\n",
       "      <td>1492</td>\n",
       "      <td>524</td>\n",
       "      <td>1200000</td>\n",
       "      <td>15</td>\n",
       "      <td>0</td>\n",
       "      <td>3</td>\n",
       "      <td>16.67</td>\n",
       "      <td>80000.0</td>\n",
       "      <td>15</td>\n",
       "      <td>89.982004</td>\n",
       "      <td>2018-05-05</td>\n",
       "      <td>5</td>\n",
       "      <td>2</td>\n",
       "      <td>5</td>\n",
       "    </tr>\n",
       "    <tr>\n",
       "      <th>...</th>\n",
       "      <td>...</td>\n",
       "      <td>...</td>\n",
       "      <td>...</td>\n",
       "      <td>...</td>\n",
       "      <td>...</td>\n",
       "      <td>...</td>\n",
       "      <td>...</td>\n",
       "      <td>...</td>\n",
       "      <td>...</td>\n",
       "      <td>...</td>\n",
       "      <td>...</td>\n",
       "      <td>...</td>\n",
       "      <td>...</td>\n",
       "      <td>...</td>\n",
       "    </tr>\n",
       "    <tr>\n",
       "      <th>142519</th>\n",
       "      <td>1569</td>\n",
       "      <td>495</td>\n",
       "      <td>1320000</td>\n",
       "      <td>22</td>\n",
       "      <td>0</td>\n",
       "      <td>2</td>\n",
       "      <td>3.86</td>\n",
       "      <td>60000.0</td>\n",
       "      <td>22</td>\n",
       "      <td>569.948187</td>\n",
       "      <td>2018-11-04</td>\n",
       "      <td>11</td>\n",
       "      <td>4</td>\n",
       "      <td>4</td>\n",
       "    </tr>\n",
       "    <tr>\n",
       "      <th>142520</th>\n",
       "      <td>1569</td>\n",
       "      <td>474</td>\n",
       "      <td>1200000</td>\n",
       "      <td>15</td>\n",
       "      <td>0</td>\n",
       "      <td>1</td>\n",
       "      <td>65.22</td>\n",
       "      <td>80000.0</td>\n",
       "      <td>15</td>\n",
       "      <td>22.999080</td>\n",
       "      <td>2018-11-04</td>\n",
       "      <td>11</td>\n",
       "      <td>4</td>\n",
       "      <td>4</td>\n",
       "    </tr>\n",
       "    <tr>\n",
       "      <th>142521</th>\n",
       "      <td>1569</td>\n",
       "      <td>524</td>\n",
       "      <td>1060000</td>\n",
       "      <td>8</td>\n",
       "      <td>0</td>\n",
       "      <td>3</td>\n",
       "      <td>9.20</td>\n",
       "      <td>132500.0</td>\n",
       "      <td>8</td>\n",
       "      <td>86.956522</td>\n",
       "      <td>2018-11-04</td>\n",
       "      <td>11</td>\n",
       "      <td>4</td>\n",
       "      <td>4</td>\n",
       "    </tr>\n",
       "    <tr>\n",
       "      <th>142522</th>\n",
       "      <td>1569</td>\n",
       "      <td>529</td>\n",
       "      <td>600000</td>\n",
       "      <td>5</td>\n",
       "      <td>0</td>\n",
       "      <td>2</td>\n",
       "      <td>5.00</td>\n",
       "      <td>120000.0</td>\n",
       "      <td>5</td>\n",
       "      <td>100.000000</td>\n",
       "      <td>2018-11-04</td>\n",
       "      <td>11</td>\n",
       "      <td>4</td>\n",
       "      <td>4</td>\n",
       "    </tr>\n",
       "    <tr>\n",
       "      <th>142523</th>\n",
       "      <td>1569</td>\n",
       "      <td>486</td>\n",
       "      <td>250000</td>\n",
       "      <td>5</td>\n",
       "      <td>0</td>\n",
       "      <td>1</td>\n",
       "      <td>1.79</td>\n",
       "      <td>50000.0</td>\n",
       "      <td>5</td>\n",
       "      <td>279.329609</td>\n",
       "      <td>2018-11-04</td>\n",
       "      <td>11</td>\n",
       "      <td>4</td>\n",
       "      <td>4</td>\n",
       "    </tr>\n",
       "  </tbody>\n",
       "</table>\n",
       "<p>142524 rows × 14 columns</p>\n",
       "</div>"
      ],
      "text/plain": [
       "        film_code  cinema_code  total_sales  tickets_sold  tickets_out  \\\n",
       "0            1492          304      3900000            26            0   \n",
       "1            1492          352      3360000            42            0   \n",
       "2            1492          489      2560000            32            0   \n",
       "3            1492          429      1200000            12            0   \n",
       "4            1492          524      1200000            15            0   \n",
       "...           ...          ...          ...           ...          ...   \n",
       "142519       1569          495      1320000            22            0   \n",
       "142520       1569          474      1200000            15            0   \n",
       "142521       1569          524      1060000             8            0   \n",
       "142522       1569          529       600000             5            0   \n",
       "142523       1569          486       250000             5            0   \n",
       "\n",
       "        show_time  occu_perc  ticket_price  ticket_use    capacity  \\\n",
       "0               4       4.26      150000.0          26  610.328638   \n",
       "1               5       8.08       80000.0          42  519.801980   \n",
       "2               4      20.00       80000.0          32  160.000000   \n",
       "3               1      11.01      100000.0          12  108.991826   \n",
       "4               3      16.67       80000.0          15   89.982004   \n",
       "...           ...        ...           ...         ...         ...   \n",
       "142519          2       3.86       60000.0          22  569.948187   \n",
       "142520          1      65.22       80000.0          15   22.999080   \n",
       "142521          3       9.20      132500.0           8   86.956522   \n",
       "142522          2       5.00      120000.0           5  100.000000   \n",
       "142523          1       1.79       50000.0           5  279.329609   \n",
       "\n",
       "              date  month  quarter  day  \n",
       "0       2018-05-05      5        2    5  \n",
       "1       2018-05-05      5        2    5  \n",
       "2       2018-05-05      5        2    5  \n",
       "3       2018-05-05      5        2    5  \n",
       "4       2018-05-05      5        2    5  \n",
       "...            ...    ...      ...  ...  \n",
       "142519  2018-11-04     11        4    4  \n",
       "142520  2018-11-04     11        4    4  \n",
       "142521  2018-11-04     11        4    4  \n",
       "142522  2018-11-04     11        4    4  \n",
       "142523  2018-11-04     11        4    4  \n",
       "\n",
       "[142524 rows x 14 columns]"
      ]
     },
     "execution_count": 98,
     "metadata": {},
     "output_type": "execute_result"
    }
   ],
   "source": [
    "file = pd.read_csv(\"cinemaTicket_Ref.csv\")\n",
    "file"
   ]
  },
  {
   "cell_type": "code",
   "execution_count": 99,
   "id": "7a8a9675",
   "metadata": {},
   "outputs": [
    {
     "data": {
      "text/plain": [
       "(142524, 14)"
      ]
     },
     "execution_count": 99,
     "metadata": {},
     "output_type": "execute_result"
    }
   ],
   "source": [
    "file.shape"
   ]
  },
  {
   "cell_type": "markdown",
   "id": "ad3970a6",
   "metadata": {},
   "source": [
    "### Here we get the shape of our data \n",
    "### Total rows = 142524\n",
    "### Total columns = 14"
   ]
  },
  {
   "cell_type": "code",
   "execution_count": 100,
   "id": "ef1c0c97",
   "metadata": {},
   "outputs": [
    {
     "data": {
      "text/html": [
       "<div>\n",
       "<style scoped>\n",
       "    .dataframe tbody tr th:only-of-type {\n",
       "        vertical-align: middle;\n",
       "    }\n",
       "\n",
       "    .dataframe tbody tr th {\n",
       "        vertical-align: top;\n",
       "    }\n",
       "\n",
       "    .dataframe thead th {\n",
       "        text-align: right;\n",
       "    }\n",
       "</style>\n",
       "<table border=\"1\" class=\"dataframe\">\n",
       "  <thead>\n",
       "    <tr style=\"text-align: right;\">\n",
       "      <th></th>\n",
       "      <th>film_code</th>\n",
       "      <th>cinema_code</th>\n",
       "      <th>total_sales</th>\n",
       "      <th>tickets_sold</th>\n",
       "      <th>tickets_out</th>\n",
       "      <th>show_time</th>\n",
       "      <th>occu_perc</th>\n",
       "      <th>ticket_price</th>\n",
       "      <th>ticket_use</th>\n",
       "      <th>capacity</th>\n",
       "      <th>month</th>\n",
       "      <th>quarter</th>\n",
       "      <th>day</th>\n",
       "    </tr>\n",
       "  </thead>\n",
       "  <tbody>\n",
       "    <tr>\n",
       "      <th>count</th>\n",
       "      <td>142524.000000</td>\n",
       "      <td>142524.000000</td>\n",
       "      <td>1.425240e+05</td>\n",
       "      <td>142524.000000</td>\n",
       "      <td>142524.000000</td>\n",
       "      <td>142524.000000</td>\n",
       "      <td>142399.000000</td>\n",
       "      <td>142524.000000</td>\n",
       "      <td>142524.000000</td>\n",
       "      <td>142399.000000</td>\n",
       "      <td>142524.000000</td>\n",
       "      <td>142524.000000</td>\n",
       "      <td>142524.000000</td>\n",
       "    </tr>\n",
       "    <tr>\n",
       "      <th>mean</th>\n",
       "      <td>1518.985111</td>\n",
       "      <td>320.378427</td>\n",
       "      <td>1.234728e+07</td>\n",
       "      <td>140.137570</td>\n",
       "      <td>0.237413</td>\n",
       "      <td>3.932103</td>\n",
       "      <td>19.965986</td>\n",
       "      <td>81234.599886</td>\n",
       "      <td>139.900157</td>\n",
       "      <td>854.723605</td>\n",
       "      <td>6.776852</td>\n",
       "      <td>2.634721</td>\n",
       "      <td>16.112585</td>\n",
       "    </tr>\n",
       "    <tr>\n",
       "      <th>std</th>\n",
       "      <td>36.184450</td>\n",
       "      <td>159.701229</td>\n",
       "      <td>3.065486e+07</td>\n",
       "      <td>279.758733</td>\n",
       "      <td>2.923206</td>\n",
       "      <td>3.056276</td>\n",
       "      <td>22.653445</td>\n",
       "      <td>33236.599278</td>\n",
       "      <td>279.564935</td>\n",
       "      <td>953.118103</td>\n",
       "      <td>2.195843</td>\n",
       "      <td>0.809692</td>\n",
       "      <td>8.949471</td>\n",
       "    </tr>\n",
       "    <tr>\n",
       "      <th>min</th>\n",
       "      <td>1471.000000</td>\n",
       "      <td>32.000000</td>\n",
       "      <td>2.000000e+04</td>\n",
       "      <td>1.000000</td>\n",
       "      <td>0.000000</td>\n",
       "      <td>1.000000</td>\n",
       "      <td>0.000000</td>\n",
       "      <td>483.870968</td>\n",
       "      <td>-219.000000</td>\n",
       "      <td>-2.000000</td>\n",
       "      <td>2.000000</td>\n",
       "      <td>1.000000</td>\n",
       "      <td>1.000000</td>\n",
       "    </tr>\n",
       "    <tr>\n",
       "      <th>25%</th>\n",
       "      <td>1485.000000</td>\n",
       "      <td>181.000000</td>\n",
       "      <td>1.260000e+06</td>\n",
       "      <td>18.000000</td>\n",
       "      <td>0.000000</td>\n",
       "      <td>2.000000</td>\n",
       "      <td>3.750000</td>\n",
       "      <td>60000.000000</td>\n",
       "      <td>18.000000</td>\n",
       "      <td>276.994486</td>\n",
       "      <td>5.000000</td>\n",
       "      <td>2.000000</td>\n",
       "      <td>8.000000</td>\n",
       "    </tr>\n",
       "    <tr>\n",
       "      <th>50%</th>\n",
       "      <td>1498.000000</td>\n",
       "      <td>324.000000</td>\n",
       "      <td>3.720000e+06</td>\n",
       "      <td>50.000000</td>\n",
       "      <td>0.000000</td>\n",
       "      <td>3.000000</td>\n",
       "      <td>10.350000</td>\n",
       "      <td>79454.235185</td>\n",
       "      <td>50.000000</td>\n",
       "      <td>525.714286</td>\n",
       "      <td>7.000000</td>\n",
       "      <td>3.000000</td>\n",
       "      <td>16.000000</td>\n",
       "    </tr>\n",
       "    <tr>\n",
       "      <th>75%</th>\n",
       "      <td>1556.000000</td>\n",
       "      <td>474.000000</td>\n",
       "      <td>1.110000e+07</td>\n",
       "      <td>143.000000</td>\n",
       "      <td>0.000000</td>\n",
       "      <td>5.000000</td>\n",
       "      <td>28.210000</td>\n",
       "      <td>100000.000000</td>\n",
       "      <td>143.000000</td>\n",
       "      <td>1038.961039</td>\n",
       "      <td>9.000000</td>\n",
       "      <td>3.000000</td>\n",
       "      <td>24.000000</td>\n",
       "    </tr>\n",
       "    <tr>\n",
       "      <th>max</th>\n",
       "      <td>1589.000000</td>\n",
       "      <td>637.000000</td>\n",
       "      <td>1.262820e+09</td>\n",
       "      <td>8499.000000</td>\n",
       "      <td>311.000000</td>\n",
       "      <td>60.000000</td>\n",
       "      <td>147.500000</td>\n",
       "      <td>700000.000000</td>\n",
       "      <td>8499.000000</td>\n",
       "      <td>9692.097160</td>\n",
       "      <td>11.000000</td>\n",
       "      <td>4.000000</td>\n",
       "      <td>31.000000</td>\n",
       "    </tr>\n",
       "  </tbody>\n",
       "</table>\n",
       "</div>"
      ],
      "text/plain": [
       "           film_code    cinema_code   total_sales   tickets_sold  \\\n",
       "count  142524.000000  142524.000000  1.425240e+05  142524.000000   \n",
       "mean     1518.985111     320.378427  1.234728e+07     140.137570   \n",
       "std        36.184450     159.701229  3.065486e+07     279.758733   \n",
       "min      1471.000000      32.000000  2.000000e+04       1.000000   \n",
       "25%      1485.000000     181.000000  1.260000e+06      18.000000   \n",
       "50%      1498.000000     324.000000  3.720000e+06      50.000000   \n",
       "75%      1556.000000     474.000000  1.110000e+07     143.000000   \n",
       "max      1589.000000     637.000000  1.262820e+09    8499.000000   \n",
       "\n",
       "         tickets_out      show_time      occu_perc   ticket_price  \\\n",
       "count  142524.000000  142524.000000  142399.000000  142524.000000   \n",
       "mean        0.237413       3.932103      19.965986   81234.599886   \n",
       "std         2.923206       3.056276      22.653445   33236.599278   \n",
       "min         0.000000       1.000000       0.000000     483.870968   \n",
       "25%         0.000000       2.000000       3.750000   60000.000000   \n",
       "50%         0.000000       3.000000      10.350000   79454.235185   \n",
       "75%         0.000000       5.000000      28.210000  100000.000000   \n",
       "max       311.000000      60.000000     147.500000  700000.000000   \n",
       "\n",
       "          ticket_use       capacity          month        quarter  \\\n",
       "count  142524.000000  142399.000000  142524.000000  142524.000000   \n",
       "mean      139.900157     854.723605       6.776852       2.634721   \n",
       "std       279.564935     953.118103       2.195843       0.809692   \n",
       "min      -219.000000      -2.000000       2.000000       1.000000   \n",
       "25%        18.000000     276.994486       5.000000       2.000000   \n",
       "50%        50.000000     525.714286       7.000000       3.000000   \n",
       "75%       143.000000    1038.961039       9.000000       3.000000   \n",
       "max      8499.000000    9692.097160      11.000000       4.000000   \n",
       "\n",
       "                 day  \n",
       "count  142524.000000  \n",
       "mean       16.112585  \n",
       "std         8.949471  \n",
       "min         1.000000  \n",
       "25%         8.000000  \n",
       "50%        16.000000  \n",
       "75%        24.000000  \n",
       "max        31.000000  "
      ]
     },
     "execution_count": 100,
     "metadata": {},
     "output_type": "execute_result"
    }
   ],
   "source": [
    "file.describe()"
   ]
  },
  {
   "cell_type": "markdown",
   "id": "f6ec6e73",
   "metadata": {},
   "source": [
    "#### description of the data we are getting like standard deviation, mean etc"
   ]
  },
  {
   "cell_type": "code",
   "execution_count": 101,
   "id": "b728f1e3",
   "metadata": {},
   "outputs": [
    {
     "data": {
      "text/html": [
       "<div>\n",
       "<style scoped>\n",
       "    .dataframe tbody tr th:only-of-type {\n",
       "        vertical-align: middle;\n",
       "    }\n",
       "\n",
       "    .dataframe tbody tr th {\n",
       "        vertical-align: top;\n",
       "    }\n",
       "\n",
       "    .dataframe thead th {\n",
       "        text-align: right;\n",
       "    }\n",
       "</style>\n",
       "<table border=\"1\" class=\"dataframe\">\n",
       "  <thead>\n",
       "    <tr style=\"text-align: right;\">\n",
       "      <th></th>\n",
       "      <th>film_code</th>\n",
       "      <th>cinema_code</th>\n",
       "      <th>total_sales</th>\n",
       "      <th>tickets_sold</th>\n",
       "      <th>tickets_out</th>\n",
       "      <th>show_time</th>\n",
       "      <th>occu_perc</th>\n",
       "      <th>ticket_price</th>\n",
       "      <th>ticket_use</th>\n",
       "      <th>capacity</th>\n",
       "      <th>date</th>\n",
       "      <th>month</th>\n",
       "      <th>quarter</th>\n",
       "      <th>day</th>\n",
       "    </tr>\n",
       "  </thead>\n",
       "  <tbody>\n",
       "    <tr>\n",
       "      <th>0</th>\n",
       "      <td>1492</td>\n",
       "      <td>304</td>\n",
       "      <td>3900000</td>\n",
       "      <td>26</td>\n",
       "      <td>0</td>\n",
       "      <td>4</td>\n",
       "      <td>4.26</td>\n",
       "      <td>150000.000000</td>\n",
       "      <td>26</td>\n",
       "      <td>610.328638</td>\n",
       "      <td>2018-05-05</td>\n",
       "      <td>5</td>\n",
       "      <td>2</td>\n",
       "      <td>5</td>\n",
       "    </tr>\n",
       "    <tr>\n",
       "      <th>1</th>\n",
       "      <td>1492</td>\n",
       "      <td>352</td>\n",
       "      <td>3360000</td>\n",
       "      <td>42</td>\n",
       "      <td>0</td>\n",
       "      <td>5</td>\n",
       "      <td>8.08</td>\n",
       "      <td>80000.000000</td>\n",
       "      <td>42</td>\n",
       "      <td>519.801980</td>\n",
       "      <td>2018-05-05</td>\n",
       "      <td>5</td>\n",
       "      <td>2</td>\n",
       "      <td>5</td>\n",
       "    </tr>\n",
       "    <tr>\n",
       "      <th>2</th>\n",
       "      <td>1492</td>\n",
       "      <td>489</td>\n",
       "      <td>2560000</td>\n",
       "      <td>32</td>\n",
       "      <td>0</td>\n",
       "      <td>4</td>\n",
       "      <td>20.00</td>\n",
       "      <td>80000.000000</td>\n",
       "      <td>32</td>\n",
       "      <td>160.000000</td>\n",
       "      <td>2018-05-05</td>\n",
       "      <td>5</td>\n",
       "      <td>2</td>\n",
       "      <td>5</td>\n",
       "    </tr>\n",
       "    <tr>\n",
       "      <th>3</th>\n",
       "      <td>1492</td>\n",
       "      <td>429</td>\n",
       "      <td>1200000</td>\n",
       "      <td>12</td>\n",
       "      <td>0</td>\n",
       "      <td>1</td>\n",
       "      <td>11.01</td>\n",
       "      <td>100000.000000</td>\n",
       "      <td>12</td>\n",
       "      <td>108.991826</td>\n",
       "      <td>2018-05-05</td>\n",
       "      <td>5</td>\n",
       "      <td>2</td>\n",
       "      <td>5</td>\n",
       "    </tr>\n",
       "    <tr>\n",
       "      <th>4</th>\n",
       "      <td>1492</td>\n",
       "      <td>524</td>\n",
       "      <td>1200000</td>\n",
       "      <td>15</td>\n",
       "      <td>0</td>\n",
       "      <td>3</td>\n",
       "      <td>16.67</td>\n",
       "      <td>80000.000000</td>\n",
       "      <td>15</td>\n",
       "      <td>89.982004</td>\n",
       "      <td>2018-05-05</td>\n",
       "      <td>5</td>\n",
       "      <td>2</td>\n",
       "      <td>5</td>\n",
       "    </tr>\n",
       "    <tr>\n",
       "      <th>5</th>\n",
       "      <td>1492</td>\n",
       "      <td>71</td>\n",
       "      <td>1050000</td>\n",
       "      <td>7</td>\n",
       "      <td>0</td>\n",
       "      <td>3</td>\n",
       "      <td>0.98</td>\n",
       "      <td>150000.000000</td>\n",
       "      <td>7</td>\n",
       "      <td>714.285714</td>\n",
       "      <td>2018-05-05</td>\n",
       "      <td>5</td>\n",
       "      <td>2</td>\n",
       "      <td>5</td>\n",
       "    </tr>\n",
       "    <tr>\n",
       "      <th>6</th>\n",
       "      <td>1492</td>\n",
       "      <td>163</td>\n",
       "      <td>1020000</td>\n",
       "      <td>10</td>\n",
       "      <td>0</td>\n",
       "      <td>3</td>\n",
       "      <td>7.69</td>\n",
       "      <td>102000.000000</td>\n",
       "      <td>10</td>\n",
       "      <td>130.039012</td>\n",
       "      <td>2018-05-05</td>\n",
       "      <td>5</td>\n",
       "      <td>2</td>\n",
       "      <td>5</td>\n",
       "    </tr>\n",
       "    <tr>\n",
       "      <th>7</th>\n",
       "      <td>1492</td>\n",
       "      <td>450</td>\n",
       "      <td>750000</td>\n",
       "      <td>5</td>\n",
       "      <td>0</td>\n",
       "      <td>3</td>\n",
       "      <td>1.57</td>\n",
       "      <td>150000.000000</td>\n",
       "      <td>5</td>\n",
       "      <td>318.471338</td>\n",
       "      <td>2018-05-05</td>\n",
       "      <td>5</td>\n",
       "      <td>2</td>\n",
       "      <td>5</td>\n",
       "    </tr>\n",
       "    <tr>\n",
       "      <th>8</th>\n",
       "      <td>1492</td>\n",
       "      <td>51</td>\n",
       "      <td>750000</td>\n",
       "      <td>11</td>\n",
       "      <td>0</td>\n",
       "      <td>2</td>\n",
       "      <td>0.95</td>\n",
       "      <td>68181.818182</td>\n",
       "      <td>11</td>\n",
       "      <td>1157.894737</td>\n",
       "      <td>2018-05-05</td>\n",
       "      <td>5</td>\n",
       "      <td>2</td>\n",
       "      <td>5</td>\n",
       "    </tr>\n",
       "    <tr>\n",
       "      <th>9</th>\n",
       "      <td>1492</td>\n",
       "      <td>522</td>\n",
       "      <td>600000</td>\n",
       "      <td>4</td>\n",
       "      <td>0</td>\n",
       "      <td>3</td>\n",
       "      <td>1.55</td>\n",
       "      <td>150000.000000</td>\n",
       "      <td>4</td>\n",
       "      <td>258.064516</td>\n",
       "      <td>2018-05-05</td>\n",
       "      <td>5</td>\n",
       "      <td>2</td>\n",
       "      <td>5</td>\n",
       "    </tr>\n",
       "  </tbody>\n",
       "</table>\n",
       "</div>"
      ],
      "text/plain": [
       "   film_code  cinema_code  total_sales  tickets_sold  tickets_out  show_time  \\\n",
       "0       1492          304      3900000            26            0          4   \n",
       "1       1492          352      3360000            42            0          5   \n",
       "2       1492          489      2560000            32            0          4   \n",
       "3       1492          429      1200000            12            0          1   \n",
       "4       1492          524      1200000            15            0          3   \n",
       "5       1492           71      1050000             7            0          3   \n",
       "6       1492          163      1020000            10            0          3   \n",
       "7       1492          450       750000             5            0          3   \n",
       "8       1492           51       750000            11            0          2   \n",
       "9       1492          522       600000             4            0          3   \n",
       "\n",
       "   occu_perc   ticket_price  ticket_use     capacity        date  month  \\\n",
       "0       4.26  150000.000000          26   610.328638  2018-05-05      5   \n",
       "1       8.08   80000.000000          42   519.801980  2018-05-05      5   \n",
       "2      20.00   80000.000000          32   160.000000  2018-05-05      5   \n",
       "3      11.01  100000.000000          12   108.991826  2018-05-05      5   \n",
       "4      16.67   80000.000000          15    89.982004  2018-05-05      5   \n",
       "5       0.98  150000.000000           7   714.285714  2018-05-05      5   \n",
       "6       7.69  102000.000000          10   130.039012  2018-05-05      5   \n",
       "7       1.57  150000.000000           5   318.471338  2018-05-05      5   \n",
       "8       0.95   68181.818182          11  1157.894737  2018-05-05      5   \n",
       "9       1.55  150000.000000           4   258.064516  2018-05-05      5   \n",
       "\n",
       "   quarter  day  \n",
       "0        2    5  \n",
       "1        2    5  \n",
       "2        2    5  \n",
       "3        2    5  \n",
       "4        2    5  \n",
       "5        2    5  \n",
       "6        2    5  \n",
       "7        2    5  \n",
       "8        2    5  \n",
       "9        2    5  "
      ]
     },
     "execution_count": 101,
     "metadata": {},
     "output_type": "execute_result"
    }
   ],
   "source": [
    "file.head(10)"
   ]
  },
  {
   "cell_type": "markdown",
   "id": "45dff737",
   "metadata": {},
   "source": [
    "### here we are getting first 10 rows of our data"
   ]
  },
  {
   "cell_type": "code",
   "execution_count": 102,
   "id": "6d341990",
   "metadata": {},
   "outputs": [
    {
     "data": {
      "text/html": [
       "<div>\n",
       "<style scoped>\n",
       "    .dataframe tbody tr th:only-of-type {\n",
       "        vertical-align: middle;\n",
       "    }\n",
       "\n",
       "    .dataframe tbody tr th {\n",
       "        vertical-align: top;\n",
       "    }\n",
       "\n",
       "    .dataframe thead th {\n",
       "        text-align: right;\n",
       "    }\n",
       "</style>\n",
       "<table border=\"1\" class=\"dataframe\">\n",
       "  <thead>\n",
       "    <tr style=\"text-align: right;\">\n",
       "      <th></th>\n",
       "      <th>film_code</th>\n",
       "      <th>cinema_code</th>\n",
       "      <th>total_sales</th>\n",
       "      <th>tickets_sold</th>\n",
       "      <th>tickets_out</th>\n",
       "      <th>show_time</th>\n",
       "      <th>occu_perc</th>\n",
       "      <th>ticket_price</th>\n",
       "      <th>ticket_use</th>\n",
       "      <th>capacity</th>\n",
       "      <th>date</th>\n",
       "      <th>month</th>\n",
       "      <th>quarter</th>\n",
       "      <th>day</th>\n",
       "    </tr>\n",
       "  </thead>\n",
       "  <tbody>\n",
       "    <tr>\n",
       "      <th>142517</th>\n",
       "      <td>1569</td>\n",
       "      <td>518</td>\n",
       "      <td>3160000</td>\n",
       "      <td>25</td>\n",
       "      <td>0</td>\n",
       "      <td>5</td>\n",
       "      <td>13.09</td>\n",
       "      <td>126400.000000</td>\n",
       "      <td>25</td>\n",
       "      <td>190.985485</td>\n",
       "      <td>2018-11-04</td>\n",
       "      <td>11</td>\n",
       "      <td>4</td>\n",
       "      <td>4</td>\n",
       "    </tr>\n",
       "    <tr>\n",
       "      <th>142518</th>\n",
       "      <td>1569</td>\n",
       "      <td>489</td>\n",
       "      <td>2420000</td>\n",
       "      <td>18</td>\n",
       "      <td>1</td>\n",
       "      <td>3</td>\n",
       "      <td>24.00</td>\n",
       "      <td>134444.444444</td>\n",
       "      <td>17</td>\n",
       "      <td>75.000000</td>\n",
       "      <td>2018-11-04</td>\n",
       "      <td>11</td>\n",
       "      <td>4</td>\n",
       "      <td>4</td>\n",
       "    </tr>\n",
       "    <tr>\n",
       "      <th>142519</th>\n",
       "      <td>1569</td>\n",
       "      <td>495</td>\n",
       "      <td>1320000</td>\n",
       "      <td>22</td>\n",
       "      <td>0</td>\n",
       "      <td>2</td>\n",
       "      <td>3.86</td>\n",
       "      <td>60000.000000</td>\n",
       "      <td>22</td>\n",
       "      <td>569.948187</td>\n",
       "      <td>2018-11-04</td>\n",
       "      <td>11</td>\n",
       "      <td>4</td>\n",
       "      <td>4</td>\n",
       "    </tr>\n",
       "    <tr>\n",
       "      <th>142520</th>\n",
       "      <td>1569</td>\n",
       "      <td>474</td>\n",
       "      <td>1200000</td>\n",
       "      <td>15</td>\n",
       "      <td>0</td>\n",
       "      <td>1</td>\n",
       "      <td>65.22</td>\n",
       "      <td>80000.000000</td>\n",
       "      <td>15</td>\n",
       "      <td>22.999080</td>\n",
       "      <td>2018-11-04</td>\n",
       "      <td>11</td>\n",
       "      <td>4</td>\n",
       "      <td>4</td>\n",
       "    </tr>\n",
       "    <tr>\n",
       "      <th>142521</th>\n",
       "      <td>1569</td>\n",
       "      <td>524</td>\n",
       "      <td>1060000</td>\n",
       "      <td>8</td>\n",
       "      <td>0</td>\n",
       "      <td>3</td>\n",
       "      <td>9.20</td>\n",
       "      <td>132500.000000</td>\n",
       "      <td>8</td>\n",
       "      <td>86.956522</td>\n",
       "      <td>2018-11-04</td>\n",
       "      <td>11</td>\n",
       "      <td>4</td>\n",
       "      <td>4</td>\n",
       "    </tr>\n",
       "    <tr>\n",
       "      <th>142522</th>\n",
       "      <td>1569</td>\n",
       "      <td>529</td>\n",
       "      <td>600000</td>\n",
       "      <td>5</td>\n",
       "      <td>0</td>\n",
       "      <td>2</td>\n",
       "      <td>5.00</td>\n",
       "      <td>120000.000000</td>\n",
       "      <td>5</td>\n",
       "      <td>100.000000</td>\n",
       "      <td>2018-11-04</td>\n",
       "      <td>11</td>\n",
       "      <td>4</td>\n",
       "      <td>4</td>\n",
       "    </tr>\n",
       "    <tr>\n",
       "      <th>142523</th>\n",
       "      <td>1569</td>\n",
       "      <td>486</td>\n",
       "      <td>250000</td>\n",
       "      <td>5</td>\n",
       "      <td>0</td>\n",
       "      <td>1</td>\n",
       "      <td>1.79</td>\n",
       "      <td>50000.000000</td>\n",
       "      <td>5</td>\n",
       "      <td>279.329609</td>\n",
       "      <td>2018-11-04</td>\n",
       "      <td>11</td>\n",
       "      <td>4</td>\n",
       "      <td>4</td>\n",
       "    </tr>\n",
       "  </tbody>\n",
       "</table>\n",
       "</div>"
      ],
      "text/plain": [
       "        film_code  cinema_code  total_sales  tickets_sold  tickets_out  \\\n",
       "142517       1569          518      3160000            25            0   \n",
       "142518       1569          489      2420000            18            1   \n",
       "142519       1569          495      1320000            22            0   \n",
       "142520       1569          474      1200000            15            0   \n",
       "142521       1569          524      1060000             8            0   \n",
       "142522       1569          529       600000             5            0   \n",
       "142523       1569          486       250000             5            0   \n",
       "\n",
       "        show_time  occu_perc   ticket_price  ticket_use    capacity  \\\n",
       "142517          5      13.09  126400.000000          25  190.985485   \n",
       "142518          3      24.00  134444.444444          17   75.000000   \n",
       "142519          2       3.86   60000.000000          22  569.948187   \n",
       "142520          1      65.22   80000.000000          15   22.999080   \n",
       "142521          3       9.20  132500.000000           8   86.956522   \n",
       "142522          2       5.00  120000.000000           5  100.000000   \n",
       "142523          1       1.79   50000.000000           5  279.329609   \n",
       "\n",
       "              date  month  quarter  day  \n",
       "142517  2018-11-04     11        4    4  \n",
       "142518  2018-11-04     11        4    4  \n",
       "142519  2018-11-04     11        4    4  \n",
       "142520  2018-11-04     11        4    4  \n",
       "142521  2018-11-04     11        4    4  \n",
       "142522  2018-11-04     11        4    4  \n",
       "142523  2018-11-04     11        4    4  "
      ]
     },
     "execution_count": 102,
     "metadata": {},
     "output_type": "execute_result"
    }
   ],
   "source": [
    "file.tail(7)"
   ]
  },
  {
   "cell_type": "markdown",
   "id": "1ab57740",
   "metadata": {},
   "source": [
    "### here we are getting last 6 values of our data"
   ]
  },
  {
   "cell_type": "code",
   "execution_count": 103,
   "id": "02dc3b36",
   "metadata": {},
   "outputs": [
    {
     "name": "stdout",
     "output_type": "stream",
     "text": [
      "<class 'pandas.core.frame.DataFrame'>\n",
      "RangeIndex: 142524 entries, 0 to 142523\n",
      "Data columns (total 14 columns):\n",
      " #   Column        Non-Null Count   Dtype  \n",
      "---  ------        --------------   -----  \n",
      " 0   film_code     142524 non-null  int64  \n",
      " 1   cinema_code   142524 non-null  int64  \n",
      " 2   total_sales   142524 non-null  int64  \n",
      " 3   tickets_sold  142524 non-null  int64  \n",
      " 4   tickets_out   142524 non-null  int64  \n",
      " 5   show_time     142524 non-null  int64  \n",
      " 6   occu_perc     142399 non-null  float64\n",
      " 7   ticket_price  142524 non-null  float64\n",
      " 8   ticket_use    142524 non-null  int64  \n",
      " 9   capacity      142399 non-null  float64\n",
      " 10  date          142524 non-null  object \n",
      " 11  month         142524 non-null  int64  \n",
      " 12  quarter       142524 non-null  int64  \n",
      " 13  day           142524 non-null  int64  \n",
      "dtypes: float64(3), int64(10), object(1)\n",
      "memory usage: 15.2+ MB\n"
     ]
    }
   ],
   "source": [
    "file.info()"
   ]
  },
  {
   "cell_type": "markdown",
   "id": "be5c84bd",
   "metadata": {},
   "source": [
    "## Here we get information the number of columns, column labels, column data types, memory usage, range index, and the number of cells in each column (non-null values)."
   ]
  },
  {
   "cell_type": "code",
   "execution_count": 104,
   "id": "edf95266",
   "metadata": {},
   "outputs": [
    {
     "data": {
      "text/plain": [
       "Index(['film_code', 'cinema_code', 'total_sales', 'tickets_sold',\n",
       "       'tickets_out', 'show_time', 'occu_perc', 'ticket_price', 'ticket_use',\n",
       "       'capacity', 'date', 'month', 'quarter', 'day'],\n",
       "      dtype='object')"
      ]
     },
     "execution_count": 104,
     "metadata": {},
     "output_type": "execute_result"
    }
   ],
   "source": [
    "file.columns"
   ]
  },
  {
   "cell_type": "markdown",
   "id": "16b99894",
   "metadata": {},
   "source": [
    "#### here we getting information about our columns like name and datatype"
   ]
  },
  {
   "cell_type": "code",
   "execution_count": 105,
   "id": "b2461b2c",
   "metadata": {},
   "outputs": [
    {
     "data": {
      "text/plain": [
       "film_code         0\n",
       "cinema_code       0\n",
       "total_sales       0\n",
       "tickets_sold      0\n",
       "tickets_out       0\n",
       "show_time         0\n",
       "occu_perc       125\n",
       "ticket_price      0\n",
       "ticket_use        0\n",
       "capacity        125\n",
       "date              0\n",
       "month             0\n",
       "quarter           0\n",
       "day               0\n",
       "dtype: int64"
      ]
     },
     "execution_count": 105,
     "metadata": {},
     "output_type": "execute_result"
    }
   ],
   "source": [
    "file.isnull().sum()"
   ]
  },
  {
   "cell_type": "markdown",
   "id": "3c687b6a",
   "metadata": {},
   "source": [
    "#### here we get total number of null values with respect to columns"
   ]
  },
  {
   "cell_type": "code",
   "execution_count": 106,
   "id": "939979e5",
   "metadata": {},
   "outputs": [
    {
     "data": {
      "text/plain": [
       "100.00    470\n",
       "5.00      361\n",
       "10.00     345\n",
       "3.33      341\n",
       "2.00      321\n",
       "         ... \n",
       "73.63       1\n",
       "58.22       1\n",
       "33.36       1\n",
       "97.58       1\n",
       "53.07       1\n",
       "Name: occu_perc, Length: 9311, dtype: int64"
      ]
     },
     "execution_count": 106,
     "metadata": {},
     "output_type": "execute_result"
    }
   ],
   "source": [
    "file[\"occu_perc\"].value_counts()"
   ]
  },
  {
   "cell_type": "markdown",
   "id": "8a0ac13a",
   "metadata": {},
   "source": [
    "### here we are getting information about specific columns about its vales ,datatype and length"
   ]
  },
  {
   "cell_type": "code",
   "execution_count": 107,
   "id": "414c93ba",
   "metadata": {},
   "outputs": [
    {
     "data": {
      "text/plain": [
       "array([304, 352, 489, 429, 524,  71, 163, 450,  51, 522,  43, 529,  82,\n",
       "       344,  73, 485, 518, 448, 431,  72, 144, 456, 238, 312, 168, 254,\n",
       "       214, 474, 445, 300, 362, 324, 452, 291, 479, 210, 428, 277,  56,\n",
       "       253, 243,  39, 310, 201, 457, 191, 532, 167, 266, 204, 380, 169,\n",
       "       162, 506, 537, 513, 467, 509, 165, 262, 486, 198, 508, 222,  98,\n",
       "       230, 156, 181, 141, 528,  94, 350, 442, 556, 475, 142,  35,  89,\n",
       "        34, 225, 182, 396,  50,  61, 487,  88, 338, 417, 194,  57, 285,\n",
       "       187, 159, 184,  81, 207, 339, 326, 531, 505, 492, 299, 507, 316,\n",
       "       333, 172, 526, 414, 115, 468, 490, 441, 430, 472, 511, 480, 470,\n",
       "       496, 466, 381, 368, 498, 195, 546, 516, 425, 488, 535, 196, 453,\n",
       "       321, 152, 390, 166, 247, 454, 464, 499, 460, 251, 481, 315, 307,\n",
       "       120, 250, 533, 221, 248, 313, 164,  70, 180, 160, 495, 314, 415,\n",
       "       174, 259, 471, 245,  83,  91, 365, 359, 286,  64, 426, 237, 536,\n",
       "       397, 476, 503, 491, 517,  55, 170, 175,  62, 539, 541, 540, 484,\n",
       "       514, 548, 432, 501, 447, 186, 477, 331, 515,  48,  33, 185, 155,\n",
       "       455, 461, 534, 273, 504, 249,  52, 482, 323, 451, 341, 306, 413,\n",
       "       292, 463, 223, 497, 525, 427, 231, 519, 183,  32, 553, 271, 276,\n",
       "       154, 521, 502, 402, 158, 473, 465, 561, 328, 558, 562, 424, 512,\n",
       "       560, 458, 637, 520, 557, 555, 543, 542, 565, 215, 376, 566],\n",
       "      dtype=int64)"
      ]
     },
     "execution_count": 107,
     "metadata": {},
     "output_type": "execute_result"
    }
   ],
   "source": [
    "file[\"cinema_code\"].unique()"
   ]
  },
  {
   "cell_type": "markdown",
   "id": "7061da7a",
   "metadata": {},
   "source": [
    "## here we are getting unique values according to selected columns"
   ]
  },
  {
   "cell_type": "code",
   "execution_count": 108,
   "id": "8c7f1647",
   "metadata": {},
   "outputs": [
    {
     "data": {
      "text/plain": [
       "film_code             1589\n",
       "cinema_code            637\n",
       "total_sales     1262819994\n",
       "tickets_sold          8499\n",
       "tickets_out            311\n",
       "show_time               60\n",
       "occu_perc            147.5\n",
       "ticket_price      700000.0\n",
       "ticket_use            8499\n",
       "capacity        9692.09716\n",
       "date            2018-11-04\n",
       "month                   11\n",
       "quarter                  4\n",
       "day                     31\n",
       "dtype: object"
      ]
     },
     "execution_count": 108,
     "metadata": {},
     "output_type": "execute_result"
    }
   ],
   "source": [
    "file.max()"
   ]
  },
  {
   "cell_type": "markdown",
   "id": "5f8327a1",
   "metadata": {},
   "source": [
    "##here we get maximum values from columns"
   ]
  },
  {
   "cell_type": "code",
   "execution_count": 109,
   "id": "e73ec9ff",
   "metadata": {},
   "outputs": [
    {
     "data": {
      "text/plain": [
       "film_code             1471\n",
       "cinema_code             32\n",
       "total_sales          20000\n",
       "tickets_sold             1\n",
       "tickets_out              0\n",
       "show_time                1\n",
       "occu_perc              0.0\n",
       "ticket_price    483.870968\n",
       "ticket_use            -219\n",
       "capacity              -2.0\n",
       "date            2018-02-21\n",
       "month                    2\n",
       "quarter                  1\n",
       "day                      1\n",
       "dtype: object"
      ]
     },
     "execution_count": 109,
     "metadata": {},
     "output_type": "execute_result"
    }
   ],
   "source": [
    "file.min()"
   ]
  },
  {
   "cell_type": "markdown",
   "id": "600495ed",
   "metadata": {},
   "source": [
    "#### here we get minimum values from the columns"
   ]
  },
  {
   "cell_type": "code",
   "execution_count": 110,
   "id": "7461e16a",
   "metadata": {},
   "outputs": [
    {
     "data": {
      "text/html": [
       "<div>\n",
       "<style scoped>\n",
       "    .dataframe tbody tr th:only-of-type {\n",
       "        vertical-align: middle;\n",
       "    }\n",
       "\n",
       "    .dataframe tbody tr th {\n",
       "        vertical-align: top;\n",
       "    }\n",
       "\n",
       "    .dataframe thead th {\n",
       "        text-align: right;\n",
       "    }\n",
       "</style>\n",
       "<table border=\"1\" class=\"dataframe\">\n",
       "  <thead>\n",
       "    <tr style=\"text-align: right;\">\n",
       "      <th></th>\n",
       "      <th>film_code</th>\n",
       "      <th>cinema_code</th>\n",
       "      <th>total_sales</th>\n",
       "      <th>tickets_sold</th>\n",
       "      <th>tickets_out</th>\n",
       "      <th>show_time</th>\n",
       "      <th>occu_perc</th>\n",
       "      <th>ticket_price</th>\n",
       "      <th>ticket_use</th>\n",
       "      <th>capacity</th>\n",
       "      <th>date</th>\n",
       "      <th>month</th>\n",
       "      <th>quarter</th>\n",
       "      <th>day</th>\n",
       "    </tr>\n",
       "  </thead>\n",
       "  <tbody>\n",
       "    <tr>\n",
       "      <th>0</th>\n",
       "      <td>1492</td>\n",
       "      <td>304</td>\n",
       "      <td>3900000</td>\n",
       "      <td>26</td>\n",
       "      <td>0</td>\n",
       "      <td>4</td>\n",
       "      <td>4.26</td>\n",
       "      <td>150000.000000</td>\n",
       "      <td>26</td>\n",
       "      <td>610.328638</td>\n",
       "      <td>2018-05-05</td>\n",
       "      <td>5</td>\n",
       "      <td>2</td>\n",
       "      <td>5</td>\n",
       "    </tr>\n",
       "    <tr>\n",
       "      <th>1</th>\n",
       "      <td>1492</td>\n",
       "      <td>352</td>\n",
       "      <td>3360000</td>\n",
       "      <td>42</td>\n",
       "      <td>0</td>\n",
       "      <td>5</td>\n",
       "      <td>8.08</td>\n",
       "      <td>80000.000000</td>\n",
       "      <td>42</td>\n",
       "      <td>519.801980</td>\n",
       "      <td>2018-05-05</td>\n",
       "      <td>5</td>\n",
       "      <td>2</td>\n",
       "      <td>5</td>\n",
       "    </tr>\n",
       "    <tr>\n",
       "      <th>2</th>\n",
       "      <td>1492</td>\n",
       "      <td>489</td>\n",
       "      <td>2560000</td>\n",
       "      <td>32</td>\n",
       "      <td>0</td>\n",
       "      <td>4</td>\n",
       "      <td>20.00</td>\n",
       "      <td>80000.000000</td>\n",
       "      <td>32</td>\n",
       "      <td>160.000000</td>\n",
       "      <td>2018-05-05</td>\n",
       "      <td>5</td>\n",
       "      <td>2</td>\n",
       "      <td>5</td>\n",
       "    </tr>\n",
       "    <tr>\n",
       "      <th>4</th>\n",
       "      <td>1492</td>\n",
       "      <td>524</td>\n",
       "      <td>1200000</td>\n",
       "      <td>15</td>\n",
       "      <td>0</td>\n",
       "      <td>3</td>\n",
       "      <td>16.67</td>\n",
       "      <td>80000.000000</td>\n",
       "      <td>15</td>\n",
       "      <td>89.982004</td>\n",
       "      <td>2018-05-05</td>\n",
       "      <td>5</td>\n",
       "      <td>2</td>\n",
       "      <td>5</td>\n",
       "    </tr>\n",
       "    <tr>\n",
       "      <th>5</th>\n",
       "      <td>1492</td>\n",
       "      <td>71</td>\n",
       "      <td>1050000</td>\n",
       "      <td>7</td>\n",
       "      <td>0</td>\n",
       "      <td>3</td>\n",
       "      <td>0.98</td>\n",
       "      <td>150000.000000</td>\n",
       "      <td>7</td>\n",
       "      <td>714.285714</td>\n",
       "      <td>2018-05-05</td>\n",
       "      <td>5</td>\n",
       "      <td>2</td>\n",
       "      <td>5</td>\n",
       "    </tr>\n",
       "    <tr>\n",
       "      <th>6</th>\n",
       "      <td>1492</td>\n",
       "      <td>163</td>\n",
       "      <td>1020000</td>\n",
       "      <td>10</td>\n",
       "      <td>0</td>\n",
       "      <td>3</td>\n",
       "      <td>7.69</td>\n",
       "      <td>102000.000000</td>\n",
       "      <td>10</td>\n",
       "      <td>130.039012</td>\n",
       "      <td>2018-05-05</td>\n",
       "      <td>5</td>\n",
       "      <td>2</td>\n",
       "      <td>5</td>\n",
       "    </tr>\n",
       "    <tr>\n",
       "      <th>7</th>\n",
       "      <td>1492</td>\n",
       "      <td>450</td>\n",
       "      <td>750000</td>\n",
       "      <td>5</td>\n",
       "      <td>0</td>\n",
       "      <td>3</td>\n",
       "      <td>1.57</td>\n",
       "      <td>150000.000000</td>\n",
       "      <td>5</td>\n",
       "      <td>318.471338</td>\n",
       "      <td>2018-05-05</td>\n",
       "      <td>5</td>\n",
       "      <td>2</td>\n",
       "      <td>5</td>\n",
       "    </tr>\n",
       "    <tr>\n",
       "      <th>8</th>\n",
       "      <td>1492</td>\n",
       "      <td>51</td>\n",
       "      <td>750000</td>\n",
       "      <td>11</td>\n",
       "      <td>0</td>\n",
       "      <td>2</td>\n",
       "      <td>0.95</td>\n",
       "      <td>68181.818182</td>\n",
       "      <td>11</td>\n",
       "      <td>1157.894737</td>\n",
       "      <td>2018-05-05</td>\n",
       "      <td>5</td>\n",
       "      <td>2</td>\n",
       "      <td>5</td>\n",
       "    </tr>\n",
       "    <tr>\n",
       "      <th>9</th>\n",
       "      <td>1492</td>\n",
       "      <td>522</td>\n",
       "      <td>600000</td>\n",
       "      <td>4</td>\n",
       "      <td>0</td>\n",
       "      <td>3</td>\n",
       "      <td>1.55</td>\n",
       "      <td>150000.000000</td>\n",
       "      <td>4</td>\n",
       "      <td>258.064516</td>\n",
       "      <td>2018-05-05</td>\n",
       "      <td>5</td>\n",
       "      <td>2</td>\n",
       "      <td>5</td>\n",
       "    </tr>\n",
       "    <tr>\n",
       "      <th>10</th>\n",
       "      <td>1492</td>\n",
       "      <td>43</td>\n",
       "      <td>480000</td>\n",
       "      <td>6</td>\n",
       "      <td>0</td>\n",
       "      <td>3</td>\n",
       "      <td>0.44</td>\n",
       "      <td>80000.000000</td>\n",
       "      <td>6</td>\n",
       "      <td>1363.636364</td>\n",
       "      <td>2018-05-05</td>\n",
       "      <td>5</td>\n",
       "      <td>2</td>\n",
       "      <td>5</td>\n",
       "    </tr>\n",
       "  </tbody>\n",
       "</table>\n",
       "</div>"
      ],
      "text/plain": [
       "    film_code  cinema_code  total_sales  tickets_sold  tickets_out  show_time  \\\n",
       "0        1492          304      3900000            26            0          4   \n",
       "1        1492          352      3360000            42            0          5   \n",
       "2        1492          489      2560000            32            0          4   \n",
       "4        1492          524      1200000            15            0          3   \n",
       "5        1492           71      1050000             7            0          3   \n",
       "6        1492          163      1020000            10            0          3   \n",
       "7        1492          450       750000             5            0          3   \n",
       "8        1492           51       750000            11            0          2   \n",
       "9        1492          522       600000             4            0          3   \n",
       "10       1492           43       480000             6            0          3   \n",
       "\n",
       "    occu_perc   ticket_price  ticket_use     capacity        date  month  \\\n",
       "0        4.26  150000.000000          26   610.328638  2018-05-05      5   \n",
       "1        8.08   80000.000000          42   519.801980  2018-05-05      5   \n",
       "2       20.00   80000.000000          32   160.000000  2018-05-05      5   \n",
       "4       16.67   80000.000000          15    89.982004  2018-05-05      5   \n",
       "5        0.98  150000.000000           7   714.285714  2018-05-05      5   \n",
       "6        7.69  102000.000000          10   130.039012  2018-05-05      5   \n",
       "7        1.57  150000.000000           5   318.471338  2018-05-05      5   \n",
       "8        0.95   68181.818182          11  1157.894737  2018-05-05      5   \n",
       "9        1.55  150000.000000           4   258.064516  2018-05-05      5   \n",
       "10       0.44   80000.000000           6  1363.636364  2018-05-05      5   \n",
       "\n",
       "    quarter  day  \n",
       "0         2    5  \n",
       "1         2    5  \n",
       "2         2    5  \n",
       "4         2    5  \n",
       "5         2    5  \n",
       "6         2    5  \n",
       "7         2    5  \n",
       "8         2    5  \n",
       "9         2    5  \n",
       "10        2    5  "
      ]
     },
     "execution_count": 110,
     "metadata": {},
     "output_type": "execute_result"
    }
   ],
   "source": [
    "data=file.query('show_time>=2').head(10)\n",
    "data\n"
   ]
  },
  {
   "cell_type": "markdown",
   "id": "4c46c2a6",
   "metadata": {},
   "source": [
    "##here we put boundation that is data of top 20 values to be displayed for rows having showtime greater than or equat to 2"
   ]
  },
  {
   "cell_type": "code",
   "execution_count": 111,
   "id": "cae694ce",
   "metadata": {},
   "outputs": [
    {
     "data": {
      "text/html": [
       "<div>\n",
       "<style scoped>\n",
       "    .dataframe tbody tr th:only-of-type {\n",
       "        vertical-align: middle;\n",
       "    }\n",
       "\n",
       "    .dataframe tbody tr th {\n",
       "        vertical-align: top;\n",
       "    }\n",
       "\n",
       "    .dataframe thead th {\n",
       "        text-align: right;\n",
       "    }\n",
       "</style>\n",
       "<table border=\"1\" class=\"dataframe\">\n",
       "  <thead>\n",
       "    <tr style=\"text-align: right;\">\n",
       "      <th></th>\n",
       "      <th>film_code</th>\n",
       "      <th>cinema_code</th>\n",
       "      <th>total_sales</th>\n",
       "      <th>tickets_sold</th>\n",
       "      <th>tickets_out</th>\n",
       "      <th>show_time</th>\n",
       "      <th>occu_perc</th>\n",
       "      <th>ticket_price</th>\n",
       "      <th>ticket_use</th>\n",
       "      <th>capacity</th>\n",
       "      <th>date</th>\n",
       "      <th>month</th>\n",
       "      <th>quarter</th>\n",
       "      <th>day</th>\n",
       "    </tr>\n",
       "  </thead>\n",
       "  <tbody>\n",
       "    <tr>\n",
       "      <th>0</th>\n",
       "      <td>1492</td>\n",
       "      <td>304</td>\n",
       "      <td>3900000</td>\n",
       "      <td>26</td>\n",
       "      <td>0</td>\n",
       "      <td>4</td>\n",
       "      <td>4.26</td>\n",
       "      <td>150000.000000</td>\n",
       "      <td>26</td>\n",
       "      <td>610.328638</td>\n",
       "      <td>2018-05-05</td>\n",
       "      <td>5</td>\n",
       "      <td>2</td>\n",
       "      <td>5</td>\n",
       "    </tr>\n",
       "    <tr>\n",
       "      <th>1</th>\n",
       "      <td>1492</td>\n",
       "      <td>352</td>\n",
       "      <td>3360000</td>\n",
       "      <td>42</td>\n",
       "      <td>0</td>\n",
       "      <td>5</td>\n",
       "      <td>8.08</td>\n",
       "      <td>80000.000000</td>\n",
       "      <td>42</td>\n",
       "      <td>519.801980</td>\n",
       "      <td>2018-05-05</td>\n",
       "      <td>5</td>\n",
       "      <td>2</td>\n",
       "      <td>5</td>\n",
       "    </tr>\n",
       "    <tr>\n",
       "      <th>2</th>\n",
       "      <td>1492</td>\n",
       "      <td>489</td>\n",
       "      <td>2560000</td>\n",
       "      <td>32</td>\n",
       "      <td>0</td>\n",
       "      <td>4</td>\n",
       "      <td>20.00</td>\n",
       "      <td>80000.000000</td>\n",
       "      <td>32</td>\n",
       "      <td>160.000000</td>\n",
       "      <td>2018-05-05</td>\n",
       "      <td>5</td>\n",
       "      <td>2</td>\n",
       "      <td>5</td>\n",
       "    </tr>\n",
       "    <tr>\n",
       "      <th>3</th>\n",
       "      <td>1492</td>\n",
       "      <td>429</td>\n",
       "      <td>1200000</td>\n",
       "      <td>12</td>\n",
       "      <td>0</td>\n",
       "      <td>1</td>\n",
       "      <td>11.01</td>\n",
       "      <td>100000.000000</td>\n",
       "      <td>12</td>\n",
       "      <td>108.991826</td>\n",
       "      <td>2018-05-05</td>\n",
       "      <td>5</td>\n",
       "      <td>2</td>\n",
       "      <td>5</td>\n",
       "    </tr>\n",
       "    <tr>\n",
       "      <th>4</th>\n",
       "      <td>1492</td>\n",
       "      <td>524</td>\n",
       "      <td>1200000</td>\n",
       "      <td>15</td>\n",
       "      <td>0</td>\n",
       "      <td>3</td>\n",
       "      <td>16.67</td>\n",
       "      <td>80000.000000</td>\n",
       "      <td>15</td>\n",
       "      <td>89.982004</td>\n",
       "      <td>2018-05-05</td>\n",
       "      <td>5</td>\n",
       "      <td>2</td>\n",
       "      <td>5</td>\n",
       "    </tr>\n",
       "    <tr>\n",
       "      <th>5</th>\n",
       "      <td>1492</td>\n",
       "      <td>71</td>\n",
       "      <td>1050000</td>\n",
       "      <td>7</td>\n",
       "      <td>0</td>\n",
       "      <td>3</td>\n",
       "      <td>0.98</td>\n",
       "      <td>150000.000000</td>\n",
       "      <td>7</td>\n",
       "      <td>714.285714</td>\n",
       "      <td>2018-05-05</td>\n",
       "      <td>5</td>\n",
       "      <td>2</td>\n",
       "      <td>5</td>\n",
       "    </tr>\n",
       "    <tr>\n",
       "      <th>6</th>\n",
       "      <td>1492</td>\n",
       "      <td>163</td>\n",
       "      <td>1020000</td>\n",
       "      <td>10</td>\n",
       "      <td>0</td>\n",
       "      <td>3</td>\n",
       "      <td>7.69</td>\n",
       "      <td>102000.000000</td>\n",
       "      <td>10</td>\n",
       "      <td>130.039012</td>\n",
       "      <td>2018-05-05</td>\n",
       "      <td>5</td>\n",
       "      <td>2</td>\n",
       "      <td>5</td>\n",
       "    </tr>\n",
       "    <tr>\n",
       "      <th>7</th>\n",
       "      <td>1492</td>\n",
       "      <td>450</td>\n",
       "      <td>750000</td>\n",
       "      <td>5</td>\n",
       "      <td>0</td>\n",
       "      <td>3</td>\n",
       "      <td>1.57</td>\n",
       "      <td>150000.000000</td>\n",
       "      <td>5</td>\n",
       "      <td>318.471338</td>\n",
       "      <td>2018-05-05</td>\n",
       "      <td>5</td>\n",
       "      <td>2</td>\n",
       "      <td>5</td>\n",
       "    </tr>\n",
       "    <tr>\n",
       "      <th>8</th>\n",
       "      <td>1492</td>\n",
       "      <td>51</td>\n",
       "      <td>750000</td>\n",
       "      <td>11</td>\n",
       "      <td>0</td>\n",
       "      <td>2</td>\n",
       "      <td>0.95</td>\n",
       "      <td>68181.818182</td>\n",
       "      <td>11</td>\n",
       "      <td>1157.894737</td>\n",
       "      <td>2018-05-05</td>\n",
       "      <td>5</td>\n",
       "      <td>2</td>\n",
       "      <td>5</td>\n",
       "    </tr>\n",
       "    <tr>\n",
       "      <th>9</th>\n",
       "      <td>1492</td>\n",
       "      <td>522</td>\n",
       "      <td>600000</td>\n",
       "      <td>4</td>\n",
       "      <td>0</td>\n",
       "      <td>3</td>\n",
       "      <td>1.55</td>\n",
       "      <td>150000.000000</td>\n",
       "      <td>4</td>\n",
       "      <td>258.064516</td>\n",
       "      <td>2018-05-05</td>\n",
       "      <td>5</td>\n",
       "      <td>2</td>\n",
       "      <td>5</td>\n",
       "    </tr>\n",
       "  </tbody>\n",
       "</table>\n",
       "</div>"
      ],
      "text/plain": [
       "   film_code  cinema_code  total_sales  tickets_sold  tickets_out  show_time  \\\n",
       "0       1492          304      3900000            26            0          4   \n",
       "1       1492          352      3360000            42            0          5   \n",
       "2       1492          489      2560000            32            0          4   \n",
       "3       1492          429      1200000            12            0          1   \n",
       "4       1492          524      1200000            15            0          3   \n",
       "5       1492           71      1050000             7            0          3   \n",
       "6       1492          163      1020000            10            0          3   \n",
       "7       1492          450       750000             5            0          3   \n",
       "8       1492           51       750000            11            0          2   \n",
       "9       1492          522       600000             4            0          3   \n",
       "\n",
       "   occu_perc   ticket_price  ticket_use     capacity        date  month  \\\n",
       "0       4.26  150000.000000          26   610.328638  2018-05-05      5   \n",
       "1       8.08   80000.000000          42   519.801980  2018-05-05      5   \n",
       "2      20.00   80000.000000          32   160.000000  2018-05-05      5   \n",
       "3      11.01  100000.000000          12   108.991826  2018-05-05      5   \n",
       "4      16.67   80000.000000          15    89.982004  2018-05-05      5   \n",
       "5       0.98  150000.000000           7   714.285714  2018-05-05      5   \n",
       "6       7.69  102000.000000          10   130.039012  2018-05-05      5   \n",
       "7       1.57  150000.000000           5   318.471338  2018-05-05      5   \n",
       "8       0.95   68181.818182          11  1157.894737  2018-05-05      5   \n",
       "9       1.55  150000.000000           4   258.064516  2018-05-05      5   \n",
       "\n",
       "   quarter  day  \n",
       "0        2    5  \n",
       "1        2    5  \n",
       "2        2    5  \n",
       "3        2    5  \n",
       "4        2    5  \n",
       "5        2    5  \n",
       "6        2    5  \n",
       "7        2    5  \n",
       "8        2    5  \n",
       "9        2    5  "
      ]
     },
     "execution_count": 111,
     "metadata": {},
     "output_type": "execute_result"
    }
   ],
   "source": [
    "pd=file.query('show_time>=0').head(10)\n",
    "pd"
   ]
  },
  {
   "cell_type": "markdown",
   "id": "2a009672",
   "metadata": {},
   "source": [
    "# univariate analysis"
   ]
  },
  {
   "cell_type": "code",
   "execution_count": 112,
   "id": "eba781a7",
   "metadata": {},
   "outputs": [
    {
     "data": {
      "text/plain": [
       "<function matplotlib.pyplot.show(close=None, block=None)>"
      ]
     },
     "execution_count": 112,
     "metadata": {},
     "output_type": "execute_result"
    },
    {
     "data": {
      "image/png": "[encoded data removed]",
      "text/plain": [
       "<Figure size 432x288 with 1 Axes>"
      ]
     },
     "metadata": {},
     "output_type": "display_data"
    }
   ],
   "source": [
    "data[\"show_time\"].value_counts(normalize=True).plot.bar()\n",
    "plt.show"
   ]
  },
  {
   "cell_type": "markdown",
   "id": "caa7bf0f",
   "metadata": {},
   "source": [
    "# here we did representation of our data through barplot and we took into consideration for show time."
   ]
  },
  {
   "cell_type": "code",
   "execution_count": 113,
   "id": "86b819ff",
   "metadata": {},
   "outputs": [
    {
     "data": {
      "text/plain": [
       "<AxesSubplot:ylabel='occu_perc'>"
      ]
     },
     "execution_count": 113,
     "metadata": {},
     "output_type": "execute_result"
    },
    {
     "data": {
      "image/png": "[encoded data removed]",
      "text/plain": [
       "<Figure size 432x288 with 1 Axes>"
      ]
     },
     "metadata": {},
     "output_type": "display_data"
    }
   ],
   "source": [
    "data[\"occu_perc\"].value_counts().plot.pie()"
   ]
  },
  {
   "cell_type": "markdown",
   "id": "f1afc5a9",
   "metadata": {},
   "source": [
    "# Pie charts are often used to represent sample data—with data points belonging to a combination of different categories.And the thing we took into consideration is occupation percentage."
   ]
  },
  {
   "cell_type": "code",
   "execution_count": 114,
   "id": "0940125e",
   "metadata": {},
   "outputs": [
    {
     "data": {
      "text/plain": [
       "<AxesSubplot:xlabel='ticket_price', ylabel='Density'>"
      ]
     },
     "execution_count": 114,
     "metadata": {},
     "output_type": "execute_result"
    },
    {
     "data": {
      "image/png": "[encoded data removed]",
      "text/plain": [
       "<Figure size 432x288 with 1 Axes>"
      ]
     },
     "metadata": {},
     "output_type": "display_data"
    }
   ],
   "source": [
    "sns.distplot(data[\"ticket_price\"].value_counts())"
   ]
  },
  {
   "cell_type": "markdown",
   "id": "0a274c1e",
   "metadata": {},
   "source": [
    "# A Distplot or distribution plot, depicts the variation in the data distribution.The variable that we took into account is ticket_price"
   ]
  },
  {
   "cell_type": "code",
   "execution_count": 115,
   "id": "36be9003",
   "metadata": {},
   "outputs": [
    {
     "data": {
      "text/plain": [
       "<AxesSubplot:xlabel='show_time'>"
      ]
     },
     "execution_count": 115,
     "metadata": {},
     "output_type": "execute_result"
    },
    {
     "data": {
      "image/png": "[encoded data removed]",
      "text/plain": [
       "<Figure size 432x288 with 1 Axes>"
      ]
     },
     "metadata": {},
     "output_type": "display_data"
    }
   ],
   "source": [
    "sns.boxplot(pd['show_time'])"
   ]
  },
  {
   "cell_type": "markdown",
   "id": "3eba9ae9",
   "metadata": {},
   "source": [
    "# boxplot of showtime variable"
   ]
  },
  {
   "cell_type": "code",
   "execution_count": 116,
   "id": "6f60b481",
   "metadata": {},
   "outputs": [
    {
     "data": {
      "image/png": "[encoded data removed]",
      "text/plain": [
       "<Figure size 432x288 with 1 Axes>"
      ]
     },
     "metadata": {},
     "output_type": "display_data"
    }
   ],
   "source": [
    "pd['occu_perc'].plot.hist()\n",
    "plt.show()"
   ]
  },
  {
   "cell_type": "markdown",
   "id": "bfe45ff6",
   "metadata": {},
   "source": [
    "# boxplot of occupation percentage"
   ]
  },
  {
   "cell_type": "code",
   "execution_count": 117,
   "id": "97423981",
   "metadata": {},
   "outputs": [
    {
     "data": {
      "text/plain": [
       "<matplotlib.legend.Legend at 0x1766e954520>"
      ]
     },
     "execution_count": 117,
     "metadata": {},
     "output_type": "execute_result"
    },
    {
     "data": {
      "image/png": "[encoded data removed]",
      "text/plain": [
       "<Figure size 576x432 with 1 Axes>"
      ]
     },
     "metadata": {},
     "output_type": "display_data"
    }
   ],
   "source": [
    "ax=plt.figure(figsize=[8,6])\n",
    "data[\"show_time\"].value_counts().plot.barh(color='blue',edgecolor='red')\n",
    "plt.legend()\n"
   ]
  },
  {
   "cell_type": "markdown",
   "id": "babe4a3c",
   "metadata": {},
   "source": [
    "# this graph shows total numbers of shoowtimes according to respective shows in varoius cinemas"
   ]
  },
  {
   "cell_type": "code",
   "execution_count": 118,
   "id": "017c1a2c",
   "metadata": {},
   "outputs": [
    {
     "data": {
      "image/png": "[encoded data removed]",
      "text/plain": [
       "<Figure size 1296x432 with 1 Axes>"
      ]
     },
     "metadata": {},
     "output_type": "display_data"
    }
   ],
   "source": [
    "ax=plt.figure(figsize=[18,6])\n",
    "data.occu_perc.plot.hist(bins=40)\n",
    "plt.show()"
   ]
  },
  {
   "cell_type": "markdown",
   "id": "fce0d330",
   "metadata": {},
   "source": [
    "### here we get to know about various occupation percentages accoeding to cinemas"
   ]
  },
  {
   "cell_type": "code",
   "execution_count": 119,
   "id": "985522c1",
   "metadata": {},
   "outputs": [
    {
     "data": {
      "text/plain": [
       "<matplotlib.legend.Legend at 0x1766ead3b50>"
      ]
     },
     "execution_count": 119,
     "metadata": {},
     "output_type": "execute_result"
    },
    {
     "data": {
      "image/png": "[encoded data removed]",
      "text/plain": [
       "<Figure size 1296x1152 with 1 Axes>"
      ]
     },
     "metadata": {},
     "output_type": "display_data"
    }
   ],
   "source": [
    "ax=plt.figure(figsize=[18,16])\n",
    "data[\"ticket_use\"].value_counts().plot.barh(color='green',edgecolor='red')\n",
    "plt.legend()\n"
   ]
  },
  {
   "cell_type": "markdown",
   "id": "969fa096",
   "metadata": {},
   "source": [
    "### here we get to know in actual how much of people are using their tickets to watch movies"
   ]
  },
  {
   "cell_type": "markdown",
   "id": "4c4e24d0",
   "metadata": {},
   "source": [
    "# bivariate analysis"
   ]
  },
  {
   "cell_type": "code",
   "execution_count": 120,
   "id": "dc936378",
   "metadata": {},
   "outputs": [
    {
     "data": {
      "image/png": "[encoded data removed]",
      "text/plain": [
       "<Figure size 432x288 with 1 Axes>"
      ]
     },
     "metadata": {},
     "output_type": "display_data"
    }
   ],
   "source": [
    "data.plot(kind='bar',x='cinema_code',y='occu_perc',color='pink')\n",
    "plt.show()"
   ]
  },
  {
   "cell_type": "markdown",
   "id": "0f430c81",
   "metadata": {},
   "source": [
    "## this help us to show how occupation percentage is varrying accordingly to cinema code"
   ]
  },
  {
   "cell_type": "code",
   "execution_count": 121,
   "id": "3be16deb",
   "metadata": {},
   "outputs": [
    {
     "data": {
      "image/png": "[encoded data removed]",
      "text/plain": [
       "<Figure size 432x288 with 1 Axes>"
      ]
     },
     "metadata": {},
     "output_type": "display_data"
    }
   ],
   "source": [
    "data.plot(kind='scatter',x='cinema_code',y='ticket_price',color='red')\n",
    "plt.show()"
   ]
  },
  {
   "cell_type": "markdown",
   "id": "d96c6ae3",
   "metadata": {},
   "source": [
    "## using scatter plot actually we are checking the ticket price variation according to the cinemas"
   ]
  },
  {
   "cell_type": "code",
   "execution_count": 122,
   "id": "ebe4d0d7",
   "metadata": {},
   "outputs": [
    {
     "data": {
      "image/png": "[encoded data removed]",
      "text/plain": [
       "<Figure size 432x288 with 1 Axes>"
      ]
     },
     "metadata": {},
     "output_type": "display_data"
    }
   ],
   "source": [
    "plt.scatter(pd.show_time, pd.occu_perc)\n",
    "plt.show()"
   ]
  },
  {
   "cell_type": "code",
   "execution_count": 123,
   "id": "90758bdd",
   "metadata": {},
   "outputs": [
    {
     "data": {
      "image/png": "[encoded data removed]",
      "text/plain": [
       "<Figure size 432x288 with 1 Axes>"
      ]
     },
     "metadata": {},
     "output_type": "display_data"
    }
   ],
   "source": [
    "sns.boxplot(x=\"show_time\", y=\"occu_perc\", data=pd)\n",
    "plt.show()"
   ]
  },
  {
   "cell_type": "markdown",
   "id": "e7ddb5de",
   "metadata": {},
   "source": [
    "# Box plot:\n",
    "\n",
    "Box plot is a nice way of viewing some statical values along with relationship between two values."
   ]
  },
  {
   "cell_type": "code",
   "execution_count": 124,
   "id": "3f0e5abe",
   "metadata": {},
   "outputs": [
    {
     "data": {
      "image/png": "[encoded data removed]",
      "text/plain": [
       "<Figure size 432x288 with 1 Axes>"
      ]
     },
     "metadata": {},
     "output_type": "display_data"
    }
   ],
   "source": [
    "sns.violinplot(x=\"show_time\", y=\"occu_perc\", data=pd , size= 8)\n",
    "plt.show()"
   ]
  },
  {
   "cell_type": "markdown",
   "id": "16a1361a",
   "metadata": {},
   "source": [
    "# Violin plot:\n",
    "violin plots also like box plots, but these give pdf along with box plots in it. they look a violin, so named to"
   ]
  },
  {
   "cell_type": "markdown",
   "id": "e6a82789",
   "metadata": {},
   "source": [
    "# multivariate analysis"
   ]
  },
  {
   "cell_type": "code",
   "execution_count": 125,
   "id": "c353163d",
   "metadata": {},
   "outputs": [
    {
     "data": {
      "image/png": "[encoded data removed]",
      "text/plain": [
       "<Figure size 540x540 with 12 Axes>"
      ]
     },
     "metadata": {},
     "output_type": "display_data"
    }
   ],
   "source": [
    "sns.pairplot(file[['cinema_code','tickets_sold','ticket_price']])\n",
    "plt.show()"
   ]
  },
  {
   "cell_type": "markdown",
   "id": "ee6c8bd2",
   "metadata": {},
   "source": [
    "# Pair plot:\n",
    "##pair plot shows a clear and nice view of all variables and their relation ship with all other variables."
   ]
  },
  {
   "cell_type": "markdown",
   "id": "46e1e559",
   "metadata": {},
   "source": [
    "# Correlation heat map"
   ]
  },
  {
   "cell_type": "code",
   "execution_count": 126,
   "id": "c19d5996",
   "metadata": {},
   "outputs": [
    {
     "data": {
      "text/html": [
       "<div>\n",
       "<style scoped>\n",
       "    .dataframe tbody tr th:only-of-type {\n",
       "        vertical-align: middle;\n",
       "    }\n",
       "\n",
       "    .dataframe tbody tr th {\n",
       "        vertical-align: top;\n",
       "    }\n",
       "\n",
       "    .dataframe thead th {\n",
       "        text-align: right;\n",
       "    }\n",
       "</style>\n",
       "<table border=\"1\" class=\"dataframe\">\n",
       "  <thead>\n",
       "    <tr style=\"text-align: right;\">\n",
       "      <th></th>\n",
       "      <th>show_time</th>\n",
       "      <th>occu_perc</th>\n",
       "      <th>tickets_sold</th>\n",
       "    </tr>\n",
       "  </thead>\n",
       "  <tbody>\n",
       "    <tr>\n",
       "      <th>show_time</th>\n",
       "      <td>1.000000</td>\n",
       "      <td>0.150545</td>\n",
       "      <td>0.719570</td>\n",
       "    </tr>\n",
       "    <tr>\n",
       "      <th>occu_perc</th>\n",
       "      <td>0.150545</td>\n",
       "      <td>1.000000</td>\n",
       "      <td>0.496111</td>\n",
       "    </tr>\n",
       "    <tr>\n",
       "      <th>tickets_sold</th>\n",
       "      <td>0.719570</td>\n",
       "      <td>0.496111</td>\n",
       "      <td>1.000000</td>\n",
       "    </tr>\n",
       "  </tbody>\n",
       "</table>\n",
       "</div>"
      ],
      "text/plain": [
       "              show_time  occu_perc  tickets_sold\n",
       "show_time      1.000000   0.150545      0.719570\n",
       "occu_perc      0.150545   1.000000      0.496111\n",
       "tickets_sold   0.719570   0.496111      1.000000"
      ]
     },
     "execution_count": 126,
     "metadata": {},
     "output_type": "execute_result"
    }
   ],
   "source": [
    "pd[['show_time','occu_perc','tickets_sold']].corr()"
   ]
  },
  {
   "cell_type": "code",
   "execution_count": 127,
   "id": "1f2441d6",
   "metadata": {},
   "outputs": [
    {
     "data": {
      "image/png": "[encoded data removed]",
      "text/plain": [
       "<Figure size 432x288 with 2 Axes>"
      ]
     },
     "metadata": {},
     "output_type": "display_data"
    }
   ],
   "source": [
    "sns.heatmap(pd[['show_time','occu_perc','tickets_sold']].corr(), annot=True, cmap='Reds')\n",
    "plt.show()"
   ]
  },
  {
   "cell_type": "markdown",
   "id": "a7cd5555",
   "metadata": {},
   "source": [
    "### plot the correlation matrix of 'show_time','occu_perc','tickets_sold' in pd dataframe."
   ]
  },
  {
   "cell_type": "markdown",
   "id": "9196c618",
   "metadata": {},
   "source": [
    "## categorical analysis"
   ]
  },
  {
   "cell_type": "code",
   "execution_count": 128,
   "id": "535ad1a3",
   "metadata": {},
   "outputs": [
    {
     "data": {
      "text/plain": [
       "show_time\n",
       "1    11.010\n",
       "2     0.950\n",
       "3     5.692\n",
       "4    12.130\n",
       "5     8.080\n",
       "Name: occu_perc, dtype: float64"
      ]
     },
     "execution_count": 128,
     "metadata": {},
     "output_type": "execute_result"
    }
   ],
   "source": [
    "pd.groupby('show_time')['occu_perc'].mean()"
   ]
  },
  {
   "cell_type": "code",
   "execution_count": 129,
   "id": "a1045c10",
   "metadata": {},
   "outputs": [
    {
     "data": {
      "text/plain": [
       "show_time\n",
       "1    11.01\n",
       "2     0.95\n",
       "3     1.57\n",
       "4    12.13\n",
       "5     8.08\n",
       "Name: occu_perc, dtype: float64"
      ]
     },
     "execution_count": 129,
     "metadata": {},
     "output_type": "execute_result"
    }
   ],
   "source": [
    "pd.groupby('show_time')['occu_perc'].median()"
   ]
  },
  {
   "cell_type": "code",
   "execution_count": 130,
   "id": "645a84cb",
   "metadata": {},
   "outputs": [
    {
     "data": {
      "text/plain": [
       "show_time\n",
       "1    12.0\n",
       "2    11.0\n",
       "3     8.2\n",
       "4    29.0\n",
       "5    42.0\n",
       "Name: tickets_sold, dtype: float64"
      ]
     },
     "execution_count": 130,
     "metadata": {},
     "output_type": "execute_result"
    }
   ],
   "source": [
    "pd.groupby('show_time')['tickets_sold'].mean()"
   ]
  },
  {
   "cell_type": "code",
   "execution_count": 131,
   "id": "96d2c5a0",
   "metadata": {},
   "outputs": [
    {
     "data": {
      "text/plain": [
       "show_time\n",
       "1    12.0\n",
       "2    11.0\n",
       "3     7.0\n",
       "4    29.0\n",
       "5    42.0\n",
       "Name: tickets_sold, dtype: float64"
      ]
     },
     "execution_count": 131,
     "metadata": {},
     "output_type": "execute_result"
    }
   ],
   "source": [
    "pd.groupby('show_time')['tickets_sold'].median()"
   ]
  },
  {
   "cell_type": "code",
   "execution_count": 132,
   "id": "38fb6800",
   "metadata": {},
   "outputs": [],
   "source": [
    "#function to find the 75th percentile.\n",
    "def p75(x):\n",
    "    return np.quantile(x, 0.75)"
   ]
  },
  {
   "cell_type": "code",
   "execution_count": 134,
   "id": "7d0bdf8f",
   "metadata": {},
   "outputs": [
    {
     "data": {
      "text/html": [
       "<div>\n",
       "<style scoped>\n",
       "    .dataframe tbody tr th:only-of-type {\n",
       "        vertical-align: middle;\n",
       "    }\n",
       "\n",
       "    .dataframe tbody tr th {\n",
       "        vertical-align: top;\n",
       "    }\n",
       "\n",
       "    .dataframe thead th {\n",
       "        text-align: right;\n",
       "    }\n",
       "</style>\n",
       "<table border=\"1\" class=\"dataframe\">\n",
       "  <thead>\n",
       "    <tr style=\"text-align: right;\">\n",
       "      <th></th>\n",
       "      <th>mean</th>\n",
       "      <th>median</th>\n",
       "      <th>p75</th>\n",
       "    </tr>\n",
       "    <tr>\n",
       "      <th>show_time</th>\n",
       "      <th></th>\n",
       "      <th></th>\n",
       "      <th></th>\n",
       "    </tr>\n",
       "  </thead>\n",
       "  <tbody>\n",
       "    <tr>\n",
       "      <th>1</th>\n",
       "      <td>12.0</td>\n",
       "      <td>12.0</td>\n",
       "      <td>12.0</td>\n",
       "    </tr>\n",
       "    <tr>\n",
       "      <th>2</th>\n",
       "      <td>11.0</td>\n",
       "      <td>11.0</td>\n",
       "      <td>11.0</td>\n",
       "    </tr>\n",
       "    <tr>\n",
       "      <th>3</th>\n",
       "      <td>8.2</td>\n",
       "      <td>7.0</td>\n",
       "      <td>10.0</td>\n",
       "    </tr>\n",
       "    <tr>\n",
       "      <th>4</th>\n",
       "      <td>29.0</td>\n",
       "      <td>29.0</td>\n",
       "      <td>30.5</td>\n",
       "    </tr>\n",
       "    <tr>\n",
       "      <th>5</th>\n",
       "      <td>42.0</td>\n",
       "      <td>42.0</td>\n",
       "      <td>42.0</td>\n",
       "    </tr>\n",
       "  </tbody>\n",
       "</table>\n",
       "</div>"
      ],
      "text/plain": [
       "           mean  median   p75\n",
       "show_time                    \n",
       "1          12.0    12.0  12.0\n",
       "2          11.0    11.0  11.0\n",
       "3           8.2     7.0  10.0\n",
       "4          29.0    29.0  30.5\n",
       "5          42.0    42.0  42.0"
      ]
     },
     "execution_count": 134,
     "metadata": {},
     "output_type": "execute_result"
    }
   ],
   "source": [
    "#calculate the mean, median and 75th percentile of balance with response\n",
    "pd.groupby('show_time')['tickets_sold'].aggregate(['mean','median',p75])"
   ]
  },
  {
   "cell_type": "code",
   "execution_count": 135,
   "id": "b00e6a85",
   "metadata": {},
   "outputs": [
    {
     "data": {
      "image/png": "[encoded data removed]",
      "text/plain": [
       "<Figure size 432x288 with 1 Axes>"
      ]
     },
     "metadata": {},
     "output_type": "display_data"
    }
   ],
   "source": [
    "#plot the bar graph of balance's mean an median with response.\n",
    "pd.groupby('show_time')['tickets_sold'].aggregate(['mean','median']).plot.bar()\n",
    "plt.show()"
   ]
  },
  {
   "cell_type": "code",
   "execution_count": null,
   "id": "f19abcd6",
   "metadata": {},
   "outputs": [],
   "source": []
  }
 ],
 "metadata": {
  "kernelspec": {
   "display_name": "Python 3 (ipykernel)",
   "language": "python",
   "name": "python3"
  },
  "language_info": {
   "codemirror_mode": {
    "name": "ipython",
    "version": 3
   },
   "file_extension": ".py",
   "mimetype": "text/x-python",
   "name": "python",
   "nbconvert_exporter": "python",
   "pygments_lexer": "ipython3",
   "version": "3.9.12"
  }
 },
 "nbformat": 4,
 "nbformat_minor": 5
}
